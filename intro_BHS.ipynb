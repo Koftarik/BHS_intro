{
  "cells": [
    {
      "cell_type": "markdown",
      "metadata": {
        "id": "view-in-github",
        "colab_type": "text"
      },
      "source": [
        "<a href=\"https://colab.research.google.com/github/Koftarik/BHS_intro/blob/main/intro_BHS.ipynb\" target=\"_parent\"><img src=\"https://colab.research.google.com/assets/colab-badge.svg\" alt=\"Open In Colab\"/></a>"
      ]
    },
    {
      "cell_type": "markdown",
      "source": [
        "Горбунцов Александр БИВ206"
      ],
      "metadata": {
        "id": "zxWJPv2nO49C"
      }
    },
    {
      "cell_type": "markdown",
      "source": [
        "# Привет уважаемый соискатель!\n",
        " Тебе предстоит пройти пару простых заданий по глубокому обучению. Это нормально не всегда понимать сразу как\n",
        " сделать ту или иную часть, видь у тебя есть возможность разобраться во всём самому! А этот навык куда ценнее\n",
        " знаний.\n",
        " Отметим сразу, что весь код написанный нами, есть лишь один из возможных путей решения задачи и ты не обязан ему\n",
        " следовать. Возможно, ты решишь использовать другие, более удобные, решения. Но как и в случае использования\n",
        " наших подсказок, так и без них, мы рекомендуем понимать, что ты пишешь и зачем. Мы будем спрашивать на собесе!\n",
        " Но ты не пугайся) Лучше разберись что и как."
      ],
      "metadata": {
        "collapsed": false,
        "pycharm": {
          "name": "#%% md\n"
        },
        "id": "wz21rnhJwN5p"
      }
    },
    {
      "cell_type": "code",
      "execution_count": 1697,
      "metadata": {
        "collapsed": true,
        "pycharm": {
          "name": "#%%\n"
        },
        "id": "6kGcyrehwN5y"
      },
      "outputs": [],
      "source": [
        "import pandas as pd\n",
        "import torch\n",
        "from torch.utils.data import Dataset\n",
        "import torch.nn as nn"
      ]
    },
    {
      "cell_type": "markdown",
      "source": [
        "# Задания и оценивание\n",
        "В тестировании присутствует 3 части:\n",
        "- Составление датаеста\n",
        "- Конструкция архитектуры нейросети\n",
        "- Обучение и аналитика\n",
        "\n",
        "Каждая из них представляет собой важный этап работы Ml-щика нашей команды, поэтому постарайся сделать их все.\n",
        "Все они приносят равное количество баллов. В каждой части есть задание со звёздочкой, его делать не обязательно -\n",
        " но если ты всё-таки его сделаешь, то это поможет нам оценить твои компетенции.\n",
        "\n",
        "\n",
        "Скажем пару слов о данных. Признаки представляют из себя из себя 11 непрерывных переменных, таргет - целочисленную оценку от 1 до 10. Подумай, что это за тип задачи."
      ],
      "metadata": {
        "collapsed": false,
        "pycharm": {
          "name": "#%% md\n"
        },
        "id": "BwFvlvNVwN52"
      }
    },
    {
      "cell_type": "markdown",
      "source": [
        "*Ответ:* Предсказание таргета по совокупности признаков - это задача регрессии."
      ],
      "metadata": {
        "id": "6vxrJFYkwj3H"
      }
    },
    {
      "cell_type": "code",
      "execution_count": 1698,
      "outputs": [],
      "source": [
        "def seed_everything(seed):\n",
        "    torch.manual_seed(seed)\n",
        "    torch.cuda.manual_seed(seed)\n",
        "\n",
        "seed_everything(123456)"
      ],
      "metadata": {
        "pycharm": {
          "name": "#%%\n"
        },
        "id": "5TT3auo5wN52"
      }
    },
    {
      "cell_type": "markdown",
      "source": [
        "# Составление датаеста\n",
        "\n",
        "- Загрузи данные из файла our data. (тут тебе может помочь библиотека pandas)\n",
        "- Раздели их по переменным X и Y.\n",
        "- Сконструируй класс MyDataset. (про такого функионал класса можешь почитать [тут](https:pytorch.org/tutorials/beginner/basics/data_tutorial.html))\n",
        "\n",
        "- \"*\" Импортируй линейную регрессию из библиотеки sklearn и обучи её на тех же данных. Ура! теперь у нас есть безлайн!\n"
      ],
      "metadata": {
        "collapsed": false,
        "pycharm": {
          "name": "#%% md\n"
        },
        "id": "rm4Ffy4uwN53"
      }
    },
    {
      "cell_type": "markdown",
      "source": [
        "Загрузите данные и разделите на X, Y"
      ],
      "metadata": {
        "collapsed": false,
        "pycharm": {
          "name": "#%% md\n"
        },
        "id": "48qpPWg5wN54"
      }
    },
    {
      "cell_type": "code",
      "source": [
        "from google.colab import drive\n",
        "drive.mount('/content/drive')"
      ],
      "metadata": {
        "colab": {
          "base_uri": "https://localhost:8080/"
        },
        "id": "bwt_guEOC7gQ",
        "outputId": "d19391b2-187c-49f8-848e-92068e81f240"
      },
      "execution_count": 1699,
      "outputs": [
        {
          "output_type": "stream",
          "name": "stdout",
          "text": [
            "Drive already mounted at /content/drive; to attempt to forcibly remount, call drive.mount(\"/content/drive\", force_remount=True).\n"
          ]
        }
      ]
    },
    {
      "cell_type": "code",
      "execution_count": 1700,
      "outputs": [
        {
          "output_type": "stream",
          "name": "stdout",
          "text": [
            "<class 'pandas.core.frame.DataFrame'>\n",
            "RangeIndex: 1599 entries, 0 to 1598\n",
            "Data columns (total 12 columns):\n",
            " #   Column      Non-Null Count  Dtype  \n",
            "---  ------      --------------  -----  \n",
            " 0   feature_1   1599 non-null   float64\n",
            " 1   feature_2   1599 non-null   float64\n",
            " 2   feature_3   1599 non-null   float64\n",
            " 3   feature_4   1599 non-null   float64\n",
            " 4   feature_5   1599 non-null   float64\n",
            " 5   feature_6   1599 non-null   float64\n",
            " 6   feature_7   1599 non-null   float64\n",
            " 7   feature_8   1599 non-null   float64\n",
            " 8   feature_9   1599 non-null   float64\n",
            " 9   feature_10  1599 non-null   float64\n",
            " 10  feature_11  1599 non-null   float64\n",
            " 11  target      1599 non-null   int64  \n",
            "dtypes: float64(11), int64(1)\n",
            "memory usage: 150.0 KB\n"
          ]
        }
      ],
      "source": [
        "data = pd.read_csv(\"/content/drive/MyDrive/Colab_Notebooks/data/my_data.csv\", skiprows=1, delimiter=';')\n",
        "data.info()"
      ],
      "metadata": {
        "pycharm": {
          "name": "#%%\n"
        },
        "colab": {
          "base_uri": "https://localhost:8080/"
        },
        "id": "tAJ2tVUgwN55",
        "outputId": "b85602d5-3edc-4695-9391-2e49b9cdb765"
      }
    },
    {
      "cell_type": "code",
      "source": [
        "data.head(5)"
      ],
      "metadata": {
        "colab": {
          "base_uri": "https://localhost:8080/",
          "height": 206
        },
        "id": "yreBAgDFG8Sj",
        "outputId": "4e7f6883-c7b1-4356-c517-c420ca2524f5"
      },
      "execution_count": 1701,
      "outputs": [
        {
          "output_type": "execute_result",
          "data": {
            "text/plain": [
              "   feature_1  feature_2  feature_3  feature_4  feature_5  feature_6  \\\n",
              "0        7.4       0.70       0.00        1.9      0.076       11.0   \n",
              "1        7.8       0.88       0.00        2.6      0.098       25.0   \n",
              "2        7.8       0.76       0.04        2.3      0.092       15.0   \n",
              "3       11.2       0.28       0.56        1.9      0.075       17.0   \n",
              "4        7.4       0.70       0.00        1.9      0.076       11.0   \n",
              "\n",
              "   feature_7  feature_8  feature_9  feature_10  feature_11  target  \n",
              "0       34.0     0.9978       3.51        0.56         9.4       5  \n",
              "1       67.0     0.9968       3.20        0.68         9.8       5  \n",
              "2       54.0     0.9970       3.26        0.65         9.8       5  \n",
              "3       60.0     0.9980       3.16        0.58         9.8       6  \n",
              "4       34.0     0.9978       3.51        0.56         9.4       5  "
            ],
            "text/html": [
              "\n",
              "  <div id=\"df-2c045922-ef59-4c85-abc8-66f7c473c81f\" class=\"colab-df-container\">\n",
              "    <div>\n",
              "<style scoped>\n",
              "    .dataframe tbody tr th:only-of-type {\n",
              "        vertical-align: middle;\n",
              "    }\n",
              "\n",
              "    .dataframe tbody tr th {\n",
              "        vertical-align: top;\n",
              "    }\n",
              "\n",
              "    .dataframe thead th {\n",
              "        text-align: right;\n",
              "    }\n",
              "</style>\n",
              "<table border=\"1\" class=\"dataframe\">\n",
              "  <thead>\n",
              "    <tr style=\"text-align: right;\">\n",
              "      <th></th>\n",
              "      <th>feature_1</th>\n",
              "      <th>feature_2</th>\n",
              "      <th>feature_3</th>\n",
              "      <th>feature_4</th>\n",
              "      <th>feature_5</th>\n",
              "      <th>feature_6</th>\n",
              "      <th>feature_7</th>\n",
              "      <th>feature_8</th>\n",
              "      <th>feature_9</th>\n",
              "      <th>feature_10</th>\n",
              "      <th>feature_11</th>\n",
              "      <th>target</th>\n",
              "    </tr>\n",
              "  </thead>\n",
              "  <tbody>\n",
              "    <tr>\n",
              "      <th>0</th>\n",
              "      <td>7.4</td>\n",
              "      <td>0.70</td>\n",
              "      <td>0.00</td>\n",
              "      <td>1.9</td>\n",
              "      <td>0.076</td>\n",
              "      <td>11.0</td>\n",
              "      <td>34.0</td>\n",
              "      <td>0.9978</td>\n",
              "      <td>3.51</td>\n",
              "      <td>0.56</td>\n",
              "      <td>9.4</td>\n",
              "      <td>5</td>\n",
              "    </tr>\n",
              "    <tr>\n",
              "      <th>1</th>\n",
              "      <td>7.8</td>\n",
              "      <td>0.88</td>\n",
              "      <td>0.00</td>\n",
              "      <td>2.6</td>\n",
              "      <td>0.098</td>\n",
              "      <td>25.0</td>\n",
              "      <td>67.0</td>\n",
              "      <td>0.9968</td>\n",
              "      <td>3.20</td>\n",
              "      <td>0.68</td>\n",
              "      <td>9.8</td>\n",
              "      <td>5</td>\n",
              "    </tr>\n",
              "    <tr>\n",
              "      <th>2</th>\n",
              "      <td>7.8</td>\n",
              "      <td>0.76</td>\n",
              "      <td>0.04</td>\n",
              "      <td>2.3</td>\n",
              "      <td>0.092</td>\n",
              "      <td>15.0</td>\n",
              "      <td>54.0</td>\n",
              "      <td>0.9970</td>\n",
              "      <td>3.26</td>\n",
              "      <td>0.65</td>\n",
              "      <td>9.8</td>\n",
              "      <td>5</td>\n",
              "    </tr>\n",
              "    <tr>\n",
              "      <th>3</th>\n",
              "      <td>11.2</td>\n",
              "      <td>0.28</td>\n",
              "      <td>0.56</td>\n",
              "      <td>1.9</td>\n",
              "      <td>0.075</td>\n",
              "      <td>17.0</td>\n",
              "      <td>60.0</td>\n",
              "      <td>0.9980</td>\n",
              "      <td>3.16</td>\n",
              "      <td>0.58</td>\n",
              "      <td>9.8</td>\n",
              "      <td>6</td>\n",
              "    </tr>\n",
              "    <tr>\n",
              "      <th>4</th>\n",
              "      <td>7.4</td>\n",
              "      <td>0.70</td>\n",
              "      <td>0.00</td>\n",
              "      <td>1.9</td>\n",
              "      <td>0.076</td>\n",
              "      <td>11.0</td>\n",
              "      <td>34.0</td>\n",
              "      <td>0.9978</td>\n",
              "      <td>3.51</td>\n",
              "      <td>0.56</td>\n",
              "      <td>9.4</td>\n",
              "      <td>5</td>\n",
              "    </tr>\n",
              "  </tbody>\n",
              "</table>\n",
              "</div>\n",
              "    <div class=\"colab-df-buttons\">\n",
              "\n",
              "  <div class=\"colab-df-container\">\n",
              "    <button class=\"colab-df-convert\" onclick=\"convertToInteractive('df-2c045922-ef59-4c85-abc8-66f7c473c81f')\"\n",
              "            title=\"Convert this dataframe to an interactive table.\"\n",
              "            style=\"display:none;\">\n",
              "\n",
              "  <svg xmlns=\"http://www.w3.org/2000/svg\" height=\"24px\" viewBox=\"0 -960 960 960\">\n",
              "    <path d=\"M120-120v-720h720v720H120Zm60-500h600v-160H180v160Zm220 220h160v-160H400v160Zm0 220h160v-160H400v160ZM180-400h160v-160H180v160Zm440 0h160v-160H620v160ZM180-180h160v-160H180v160Zm440 0h160v-160H620v160Z\"/>\n",
              "  </svg>\n",
              "    </button>\n",
              "\n",
              "  <style>\n",
              "    .colab-df-container {\n",
              "      display:flex;\n",
              "      gap: 12px;\n",
              "    }\n",
              "\n",
              "    .colab-df-convert {\n",
              "      background-color: #E8F0FE;\n",
              "      border: none;\n",
              "      border-radius: 50%;\n",
              "      cursor: pointer;\n",
              "      display: none;\n",
              "      fill: #1967D2;\n",
              "      height: 32px;\n",
              "      padding: 0 0 0 0;\n",
              "      width: 32px;\n",
              "    }\n",
              "\n",
              "    .colab-df-convert:hover {\n",
              "      background-color: #E2EBFA;\n",
              "      box-shadow: 0px 1px 2px rgba(60, 64, 67, 0.3), 0px 1px 3px 1px rgba(60, 64, 67, 0.15);\n",
              "      fill: #174EA6;\n",
              "    }\n",
              "\n",
              "    .colab-df-buttons div {\n",
              "      margin-bottom: 4px;\n",
              "    }\n",
              "\n",
              "    [theme=dark] .colab-df-convert {\n",
              "      background-color: #3B4455;\n",
              "      fill: #D2E3FC;\n",
              "    }\n",
              "\n",
              "    [theme=dark] .colab-df-convert:hover {\n",
              "      background-color: #434B5C;\n",
              "      box-shadow: 0px 1px 3px 1px rgba(0, 0, 0, 0.15);\n",
              "      filter: drop-shadow(0px 1px 2px rgba(0, 0, 0, 0.3));\n",
              "      fill: #FFFFFF;\n",
              "    }\n",
              "  </style>\n",
              "\n",
              "    <script>\n",
              "      const buttonEl =\n",
              "        document.querySelector('#df-2c045922-ef59-4c85-abc8-66f7c473c81f button.colab-df-convert');\n",
              "      buttonEl.style.display =\n",
              "        google.colab.kernel.accessAllowed ? 'block' : 'none';\n",
              "\n",
              "      async function convertToInteractive(key) {\n",
              "        const element = document.querySelector('#df-2c045922-ef59-4c85-abc8-66f7c473c81f');\n",
              "        const dataTable =\n",
              "          await google.colab.kernel.invokeFunction('convertToInteractive',\n",
              "                                                    [key], {});\n",
              "        if (!dataTable) return;\n",
              "\n",
              "        const docLinkHtml = 'Like what you see? Visit the ' +\n",
              "          '<a target=\"_blank\" href=https://colab.research.google.com/notebooks/data_table.ipynb>data table notebook</a>'\n",
              "          + ' to learn more about interactive tables.';\n",
              "        element.innerHTML = '';\n",
              "        dataTable['output_type'] = 'display_data';\n",
              "        await google.colab.output.renderOutput(dataTable, element);\n",
              "        const docLink = document.createElement('div');\n",
              "        docLink.innerHTML = docLinkHtml;\n",
              "        element.appendChild(docLink);\n",
              "      }\n",
              "    </script>\n",
              "  </div>\n",
              "\n",
              "\n",
              "<div id=\"df-8c830ca4-2e18-49bb-89a2-421c3da4fe7e\">\n",
              "  <button class=\"colab-df-quickchart\" onclick=\"quickchart('df-8c830ca4-2e18-49bb-89a2-421c3da4fe7e')\"\n",
              "            title=\"Suggest charts\"\n",
              "            style=\"display:none;\">\n",
              "\n",
              "<svg xmlns=\"http://www.w3.org/2000/svg\" height=\"24px\"viewBox=\"0 0 24 24\"\n",
              "     width=\"24px\">\n",
              "    <g>\n",
              "        <path d=\"M19 3H5c-1.1 0-2 .9-2 2v14c0 1.1.9 2 2 2h14c1.1 0 2-.9 2-2V5c0-1.1-.9-2-2-2zM9 17H7v-7h2v7zm4 0h-2V7h2v10zm4 0h-2v-4h2v4z\"/>\n",
              "    </g>\n",
              "</svg>\n",
              "  </button>\n",
              "\n",
              "<style>\n",
              "  .colab-df-quickchart {\n",
              "      --bg-color: #E8F0FE;\n",
              "      --fill-color: #1967D2;\n",
              "      --hover-bg-color: #E2EBFA;\n",
              "      --hover-fill-color: #174EA6;\n",
              "      --disabled-fill-color: #AAA;\n",
              "      --disabled-bg-color: #DDD;\n",
              "  }\n",
              "\n",
              "  [theme=dark] .colab-df-quickchart {\n",
              "      --bg-color: #3B4455;\n",
              "      --fill-color: #D2E3FC;\n",
              "      --hover-bg-color: #434B5C;\n",
              "      --hover-fill-color: #FFFFFF;\n",
              "      --disabled-bg-color: #3B4455;\n",
              "      --disabled-fill-color: #666;\n",
              "  }\n",
              "\n",
              "  .colab-df-quickchart {\n",
              "    background-color: var(--bg-color);\n",
              "    border: none;\n",
              "    border-radius: 50%;\n",
              "    cursor: pointer;\n",
              "    display: none;\n",
              "    fill: var(--fill-color);\n",
              "    height: 32px;\n",
              "    padding: 0;\n",
              "    width: 32px;\n",
              "  }\n",
              "\n",
              "  .colab-df-quickchart:hover {\n",
              "    background-color: var(--hover-bg-color);\n",
              "    box-shadow: 0 1px 2px rgba(60, 64, 67, 0.3), 0 1px 3px 1px rgba(60, 64, 67, 0.15);\n",
              "    fill: var(--button-hover-fill-color);\n",
              "  }\n",
              "\n",
              "  .colab-df-quickchart-complete:disabled,\n",
              "  .colab-df-quickchart-complete:disabled:hover {\n",
              "    background-color: var(--disabled-bg-color);\n",
              "    fill: var(--disabled-fill-color);\n",
              "    box-shadow: none;\n",
              "  }\n",
              "\n",
              "  .colab-df-spinner {\n",
              "    border: 2px solid var(--fill-color);\n",
              "    border-color: transparent;\n",
              "    border-bottom-color: var(--fill-color);\n",
              "    animation:\n",
              "      spin 1s steps(1) infinite;\n",
              "  }\n",
              "\n",
              "  @keyframes spin {\n",
              "    0% {\n",
              "      border-color: transparent;\n",
              "      border-bottom-color: var(--fill-color);\n",
              "      border-left-color: var(--fill-color);\n",
              "    }\n",
              "    20% {\n",
              "      border-color: transparent;\n",
              "      border-left-color: var(--fill-color);\n",
              "      border-top-color: var(--fill-color);\n",
              "    }\n",
              "    30% {\n",
              "      border-color: transparent;\n",
              "      border-left-color: var(--fill-color);\n",
              "      border-top-color: var(--fill-color);\n",
              "      border-right-color: var(--fill-color);\n",
              "    }\n",
              "    40% {\n",
              "      border-color: transparent;\n",
              "      border-right-color: var(--fill-color);\n",
              "      border-top-color: var(--fill-color);\n",
              "    }\n",
              "    60% {\n",
              "      border-color: transparent;\n",
              "      border-right-color: var(--fill-color);\n",
              "    }\n",
              "    80% {\n",
              "      border-color: transparent;\n",
              "      border-right-color: var(--fill-color);\n",
              "      border-bottom-color: var(--fill-color);\n",
              "    }\n",
              "    90% {\n",
              "      border-color: transparent;\n",
              "      border-bottom-color: var(--fill-color);\n",
              "    }\n",
              "  }\n",
              "</style>\n",
              "\n",
              "  <script>\n",
              "    async function quickchart(key) {\n",
              "      const quickchartButtonEl =\n",
              "        document.querySelector('#' + key + ' button');\n",
              "      quickchartButtonEl.disabled = true;  // To prevent multiple clicks.\n",
              "      quickchartButtonEl.classList.add('colab-df-spinner');\n",
              "      try {\n",
              "        const charts = await google.colab.kernel.invokeFunction(\n",
              "            'suggestCharts', [key], {});\n",
              "      } catch (error) {\n",
              "        console.error('Error during call to suggestCharts:', error);\n",
              "      }\n",
              "      quickchartButtonEl.classList.remove('colab-df-spinner');\n",
              "      quickchartButtonEl.classList.add('colab-df-quickchart-complete');\n",
              "    }\n",
              "    (() => {\n",
              "      let quickchartButtonEl =\n",
              "        document.querySelector('#df-8c830ca4-2e18-49bb-89a2-421c3da4fe7e button');\n",
              "      quickchartButtonEl.style.display =\n",
              "        google.colab.kernel.accessAllowed ? 'block' : 'none';\n",
              "    })();\n",
              "  </script>\n",
              "</div>\n",
              "    </div>\n",
              "  </div>\n"
            ]
          },
          "metadata": {},
          "execution_count": 1701
        }
      ]
    },
    {
      "cell_type": "code",
      "source": [
        "X = data.drop(['target'], axis=1)\n",
        "Y = data['target']"
      ],
      "metadata": {
        "id": "qDKD-sr-EFZI"
      },
      "execution_count": 1702,
      "outputs": []
    },
    {
      "cell_type": "markdown",
      "source": [
        "Создайте класс DataSet - https://pytorch.org/tutorials/beginner/basics/data_tutorial.html"
      ],
      "metadata": {
        "collapsed": false,
        "pycharm": {
          "name": "#%% md\n"
        },
        "id": "HPA1d_ZEwN56"
      }
    },
    {
      "cell_type": "code",
      "execution_count": 1703,
      "outputs": [],
      "source": [
        "class MyDataset(Dataset):\n",
        "    def __init__(self, x, y):\n",
        "        self.x = torch.from_numpy(x.values)\n",
        "        y = torch.from_numpy(y.values)\n",
        "        self.y = y.view((len(y), 1))   #Исправление Using a target size (torch.Size([32])) that is different to the input size (torch.Size([32, 1])).\n",
        "\n",
        "    def __len__(self):\n",
        "        return len(self.x)\n",
        "\n",
        "    def __getitem__(self, idx):\n",
        "        return self.x[idx], self.y[idx]"
      ],
      "metadata": {
        "pycharm": {
          "name": "#%%\n"
        },
        "id": "Nj8-k-3TwN57"
      }
    },
    {
      "cell_type": "markdown",
      "source": [
        "Линейная регрессия из sklearn"
      ],
      "metadata": {
        "id": "xnLl3QbWj7L6"
      }
    },
    {
      "cell_type": "code",
      "source": [
        "from sklearn.linear_model import LinearRegression\n",
        "\n",
        "model_LR = LinearRegression()\n",
        "\n",
        "model_LR.fit(X, Y)\n",
        "\n",
        "score = model_LR.score(X, Y)\n",
        "\n",
        "print(\"R-квадрат:\", score)"
      ],
      "metadata": {
        "colab": {
          "base_uri": "https://localhost:8080/"
        },
        "id": "4Q3oVrU7MaBA",
        "outputId": "70e32534-f6e2-40d7-836b-ad8326745417"
      },
      "execution_count": 1704,
      "outputs": [
        {
          "output_type": "stream",
          "name": "stdout",
          "text": [
            "R-квадрат: 0.3605517030386879\n"
          ]
        }
      ]
    },
    {
      "cell_type": "markdown",
      "source": [
        "# Сконструируйте класс нейронной сети\n",
        "В этом задании тебе предстоит сконструировать полносвязную двухслойную нейронную сеть.\n",
        "\n",
        "- Вспомните какие сущности необходимы для обучения нейронной сети и включите их в атрибуты класса.\n",
        "- Основываясь на типе данной задачи выберете подходящую лосс функцию.\n",
        "- На основе требований первых двух пунктов заполните методы forward и training_step\n",
        "- \"*\" Настрой обучение батчами (это не обязательно делать в противном случае)\n",
        "\n",
        "Напоминаем, что не обязательно пользоваться предлагаемым шаблоном! Если вы знаете более быстрые и простые пути,\n",
        "то будет интересно на них посмотреть."
      ],
      "metadata": {
        "collapsed": false,
        "pycharm": {
          "name": "#%% md\n"
        },
        "id": "tF9HPlADwN58"
      }
    },
    {
      "cell_type": "markdown",
      "source": [
        "Создание класса сети"
      ],
      "metadata": {
        "id": "LqNWw0STGgYI"
      }
    },
    {
      "cell_type": "code",
      "source": [
        "import torch.optim as optim"
      ],
      "metadata": {
        "id": "vHOxWWkwlZb8"
      },
      "execution_count": 1705,
      "outputs": []
    },
    {
      "cell_type": "code",
      "execution_count": 1706,
      "outputs": [],
      "source": [
        "class MyNet(nn.Module):\n",
        "    #input_size=количество features, output_size=количество целевых переменных, hidden_size=кол-во нейронов в скрытом слое\n",
        "    def __init__(self, input_size=11, output_size=1, hidden_size=7):\n",
        "        super().__init__()\n",
        "\n",
        "        self.layers = nn.Sequential(\n",
        "          nn.Linear(input_size, hidden_size),\n",
        "          nn.ReLU(),\n",
        "          nn.BatchNorm1d(hidden_size),\n",
        "          nn.Linear(hidden_size, output_size)\n",
        "        )\n",
        "        self.double()\n",
        "        #дефолт для Linear - float32, а у нас float64. чтобы получить норм делаем double\n",
        "\n",
        "        self.optimizer = optim.Adam(self.parameters(), lr=1.0e-2)\n",
        "        self.loss = nn.L1Loss()\n",
        "\n",
        "    def forward(self, x):\n",
        "        \"\"\"\n",
        "        Прямой проход по всем слоям сети для получения предсказания.\n",
        "        :param x:\n",
        "        Входящие данные.\n",
        "        :return:\n",
        "        Предсказанные значения для входящих данных.\n",
        "        \"\"\"\n",
        "        return self.layers(x)\n",
        "\n",
        "    def training_step(self, train_data):\n",
        "        \"\"\"\n",
        "        Реализация одного шага обучения.\n",
        "        :param train_data:\n",
        "        Данные для прохода.\n",
        "        :return:\n",
        "        Значение лосс функции этого шага обучения.\n",
        "        \"\"\"\n",
        "        x, y = train_data\n",
        "        y_hat = self.layers(x)\n",
        "        loss = self.loss(y_hat, y)\n",
        "        self.optimizer.zero_grad()\n",
        "        loss.backward()\n",
        "        self.optimizer.step()\n",
        "\n",
        "        return loss\n",
        "\n",
        "    def validation_step(self, validation_data):\n",
        "\n",
        "        x, y = validation_data\n",
        "        y_hat = self.layers(x)\n",
        "        loss = self.loss(y_hat, y)\n",
        "\n",
        "        y_rounded = y_hat.round()\n",
        "        correct = 0\n",
        "        for elem in y:\n",
        "          if y[elem]==y_rounded[elem]:\n",
        "            correct+=1\n",
        "\n",
        "        accuracy = correct / len(y)\n",
        "\n",
        "        output = dict({\n",
        "            'valid_loss': loss,\n",
        "            'valid_acc': accuracy,\n",
        "        })\n",
        "        return output"
      ],
      "metadata": {
        "pycharm": {
          "name": "#%%\n"
        },
        "id": "tFNjm5uywN59"
      }
    },
    {
      "cell_type": "markdown",
      "source": [
        "# Обучение и аналитика\n",
        "В этом задании тебе предстоит обучить сконструированную архитектуру.\n",
        "\n",
        "- Создай объект класса MyDataset и MyNet, а также других атрибутов, если ваше решение их предусматривает.\n",
        "- Напишите цикл обучения нейронной сети.\n",
        "- Обучите нейронную сеть и оцените финальной качество на валидационном датасете.\n",
        "- \"*\" Каждый N-ый шаг изображайте на графике, как менялось значение лосс функции на тестовых данных и\n",
        "на части валидационных данных."
      ],
      "metadata": {
        "collapsed": false,
        "pycharm": {
          "name": "#%% md\n"
        },
        "id": "4BKcIZs_wN59"
      }
    },
    {
      "cell_type": "markdown",
      "source": [
        "Создание датасета и загрузчиков данных"
      ],
      "metadata": {
        "id": "EfwHdBcJGmzL"
      }
    },
    {
      "cell_type": "code",
      "source": [
        "from torch.utils.data import DataLoader, random_split"
      ],
      "metadata": {
        "id": "6-QT3WzDEtS7"
      },
      "execution_count": 1707,
      "outputs": []
    },
    {
      "cell_type": "code",
      "source": [
        "batch_size=32"
      ],
      "metadata": {
        "id": "vKQwKO8o5lZT"
      },
      "execution_count": 1708,
      "outputs": []
    },
    {
      "cell_type": "code",
      "source": [
        "dataset = MyDataset(X, Y)\n",
        "\n",
        "train_dataset, test_dataset = torch.utils.data.random_split(dataset,[int(len(dataset)*0.7),(int(len(dataset))-int(len(dataset)*0.7))])\n",
        "\n",
        "train_loader = DataLoader(train_dataset, batch_size=batch_size, shuffle=True)\n",
        "batch_val_loader = DataLoader(test_dataset, batch_size=batch_size, shuffle=True)\n",
        "val_loader = DataLoader(test_dataset, batch_size=len(test_dataset), shuffle=True)"
      ],
      "metadata": {
        "id": "tFZV8NEPACo1"
      },
      "execution_count": 1709,
      "outputs": []
    },
    {
      "cell_type": "code",
      "source": [
        "print('Длина тренировочных данных')\n",
        "print(len(train_dataset))\n",
        "print('Длина тестовых данных')\n",
        "print(len(test_dataset))\n",
        "print('Число шагов обучения в одной эпохе')\n",
        "print(round(len(train_dataset) / batch_size))"
      ],
      "metadata": {
        "colab": {
          "base_uri": "https://localhost:8080/"
        },
        "id": "QEGFBhJ-D4AK",
        "outputId": "b96f50c6-bac2-4b2c-ba5c-01c403896794"
      },
      "execution_count": 1710,
      "outputs": [
        {
          "output_type": "stream",
          "name": "stdout",
          "text": [
            "Длина тренировочных данных\n",
            "1119\n",
            "Длина тестовых данных\n",
            "480\n",
            "Число шагов обучения в одной эпохе\n",
            "35\n"
          ]
        }
      ]
    },
    {
      "cell_type": "markdown",
      "source": [
        "Создание и обучение сети"
      ],
      "metadata": {
        "id": "XW4x9akyG0AU"
      }
    },
    {
      "cell_type": "code",
      "source": [
        "model = MyNet(hidden_size=64)\n",
        "\n",
        "num_epochs = 3\n",
        "train_losses = []\n",
        "val_losses = []\n",
        "val_acc = []"
      ],
      "metadata": {
        "id": "FUilTNKsAER9"
      },
      "execution_count": 1711,
      "outputs": []
    },
    {
      "cell_type": "code",
      "source": [
        "for epoch in range(num_epochs):\n",
        "\n",
        "  model.train()\n",
        "\n",
        "  print(f'Starting epoch {epoch+1}')\n",
        "\n",
        "  for i, data in enumerate(train_loader, 0):\n",
        "\n",
        "    loss=model.training_step(data)\n",
        "    train_losses.append(loss.item())\n",
        "\n",
        "    if i % 10 == 0:\n",
        "\n",
        "      print('Loss after batch %3d: %.3f' %\n",
        "        (i + 1, train_losses[-1]))\n",
        "\n",
        "model.eval()\n",
        "\n",
        "print('Training process has finished.')"
      ],
      "metadata": {
        "colab": {
          "base_uri": "https://localhost:8080/"
        },
        "id": "OQXUeaa9Uc48",
        "outputId": "8e9d6d90-b345-42f4-84b2-e4b503d0d497"
      },
      "execution_count": 1712,
      "outputs": [
        {
          "output_type": "stream",
          "name": "stdout",
          "text": [
            "Starting epoch 1\n",
            "Loss after batch   1: 5.553\n",
            "Loss after batch  11: 4.709\n",
            "Loss after batch  21: 2.495\n",
            "Loss after batch  31: 1.223\n",
            "Starting epoch 2\n",
            "Loss after batch   1: 0.970\n",
            "Loss after batch  11: 0.834\n",
            "Loss after batch  21: 0.546\n",
            "Loss after batch  31: 0.710\n",
            "Starting epoch 3\n",
            "Loss after batch   1: 0.797\n",
            "Loss after batch  11: 0.608\n",
            "Loss after batch  21: 0.782\n",
            "Loss after batch  31: 0.793\n",
            "Training process has finished.\n"
          ]
        }
      ]
    },
    {
      "cell_type": "code",
      "source": [
        "import matplotlib.pyplot as plt\n",
        "\n",
        "plt.plot(range(len(train_losses)), train_losses, label='Train Loss')\n",
        "plt.xlabel('Number of steps')\n",
        "plt.ylabel('Loss')\n",
        "plt.legend()\n",
        "plt.show()"
      ],
      "metadata": {
        "colab": {
          "base_uri": "https://localhost:8080/",
          "height": 451
        },
        "id": "lOPRnJBGaTr7",
        "outputId": "1dc487e3-f504-40bb-d1d2-1b5641dbc37e"
      },
      "execution_count": 1713,
      "outputs": [
        {
          "output_type": "display_data",
          "data": {
            "text/plain": [
              "<Figure size 640x480 with 1 Axes>"
            ],
            "image/png": "[encoded data removed]"
          },
          "metadata": {}
        }
      ]
    },
    {
      "cell_type": "markdown",
      "source": [
        "Оценка качества"
      ],
      "metadata": {
        "id": "N9vkR5AFZrxn"
      }
    },
    {
      "cell_type": "code",
      "source": [
        "print('Starting batch validation.')\n",
        "\n",
        "with torch.no_grad():\n",
        "  for i, data in enumerate(batch_val_loader, 0):\n",
        "\n",
        "    output = model.validation_step(data)\n",
        "    val_losses.append(output['valid_loss'].item())\n",
        "    val_acc.append(output['valid_acc'])\n",
        "\n",
        "    if i % 3 == 0:\n",
        "\n",
        "      print('Loss after batch %7d: %.3f' %\n",
        "        (i + 1, val_losses[-1]))\n",
        "\n",
        "      print('Accuracy after batch %3d: %.3f' %\n",
        "        (i + 1, val_acc[-1]))\n",
        "\n",
        "print('Validation process has finished')\n",
        "\n",
        "print('Batch validation accuracy: %.3f' %\n",
        "        (sum(val_acc)/len(val_acc)))"
      ],
      "metadata": {
        "colab": {
          "base_uri": "https://localhost:8080/"
        },
        "id": "NOPV7scrZYH5",
        "outputId": "1d851963-0963-432f-c038-6a88d37fbac4"
      },
      "execution_count": 1714,
      "outputs": [
        {
          "output_type": "stream",
          "name": "stdout",
          "text": [
            "Starting batch validation.\n",
            "Loss after batch       1: 0.531\n",
            "Accuracy after batch   1: 0.625\n",
            "Loss after batch       4: 0.528\n",
            "Accuracy after batch   4: 0.062\n",
            "Loss after batch       7: 0.609\n",
            "Accuracy after batch   7: 0.719\n",
            "Loss after batch      10: 0.476\n",
            "Accuracy after batch  10: 0.844\n",
            "Loss after batch      13: 0.623\n",
            "Accuracy after batch  13: 0.469\n",
            "Validation process has finished\n",
            "Batch validation accuracy: 0.533\n"
          ]
        }
      ]
    },
    {
      "cell_type": "code",
      "source": [
        "plt.plot(range(len(val_losses)), val_losses, label='Validation Loss')\n",
        "plt.xlabel('Number of steps')\n",
        "plt.ylabel('Loss')\n",
        "plt.ylim([0, 2])\n",
        "plt.legend()\n",
        "plt.show()"
      ],
      "metadata": {
        "colab": {
          "base_uri": "https://localhost:8080/",
          "height": 455
        },
        "id": "5qoCKmXQ_tyJ",
        "outputId": "3c110e9e-f84b-4bfa-8245-fa969ca73758"
      },
      "execution_count": 1715,
      "outputs": [
        {
          "output_type": "display_data",
          "data": {
            "text/plain": [
              "<Figure size 640x480 with 1 Axes>"
            ],
            "image/png": "[encoded data removed]"
          },
          "metadata": {}
        }
      ]
    },
    {
      "cell_type": "code",
      "source": [
        "plt.plot(range(len(val_acc)), val_acc, label='Validation Accuracy')\n",
        "plt.xlabel('Number of steps')\n",
        "plt.ylabel('Accuracy')\n",
        "plt.legend()\n",
        "plt.show()"
      ],
      "metadata": {
        "colab": {
          "base_uri": "https://localhost:8080/",
          "height": 449
        },
        "id": "vKuCAk9d_zmf",
        "outputId": "936bd6d2-0f3b-420c-d829-cf136b283bcd"
      },
      "execution_count": 1716,
      "outputs": [
        {
          "output_type": "display_data",
          "data": {
            "text/plain": [
              "<Figure size 640x480 with 1 Axes>"
            ],
            "image/png": "[encoded data removed]"
          },
          "metadata": {}
        }
      ]
    },
    {
      "cell_type": "markdown",
      "source": [
        "Если отдавать модели данные по чуть-чуть, то точность оставляет желать лучшего (53,3%)\n",
        "\n",
        "Однако если закинуть сразу все данные, то точность получается 100%"
      ],
      "metadata": {
        "id": "aowV0RQoIu8z"
      }
    },
    {
      "cell_type": "code",
      "source": [
        "print('Starting val_data validation.')\n",
        "\n",
        "with torch.no_grad():\n",
        "  for i, data in enumerate(val_loader, 0):\n",
        "\n",
        "    output = model.validation_step(data)\n",
        "\n",
        "    print('Val_data validation loss - {:.3f}'.format(output['valid_loss'].item()))\n",
        "    print('Val_data validation accuracy - {:.3f}'.format(output['valid_acc']))"
      ],
      "metadata": {
        "colab": {
          "base_uri": "https://localhost:8080/"
        },
        "id": "vXkP_TFcExY8",
        "outputId": "815dd940-aa65-4369-9f8f-40a1a0ab7dde"
      },
      "execution_count": 1717,
      "outputs": [
        {
          "output_type": "stream",
          "name": "stdout",
          "text": [
            "Starting val_data validation.\n",
            "Val_data validation loss - 0.584\n",
            "Val_data validation accuracy - 1.000\n"
          ]
        }
      ]
    },
    {
      "cell_type": "markdown",
      "source": [
        "Не в зависимости от того что тебе удалось сделать , скажи пару слов о том, в чём ты смог разобраться (если такие открытия были) и о том, какие изменения / дополнения и почему ты привнёс в заготовленный нами шаблон."
      ],
      "metadata": {
        "collapsed": false,
        "pycharm": {
          "name": "#%% md\n"
        },
        "id": "yAxj-VG5wN5_"
      }
    },
    {
      "cell_type": "markdown",
      "source": [
        "1. В чем я смог разобраться: не могу сказать что были какие-то открытия, но я упорядочил свои знания и глубже вник в предметную область. Теперь я больше понимаю то, чем я раньше пользовался как данностью, что и как именно работает, почему надо писать именно такие цифры и использовать именно такие функции.\n",
        "\n",
        "2. Изменения в шаблоне:\n",
        "\n",
        "* Добавил пару функций чтобы инормация о данных была перед глазами.\n",
        "\n",
        "* Не использовал tqdm так как обучение происходит за секунду, и отслеживать прогресс нет смысла.\n",
        "\n",
        "* Для обучения батчами добавил DataLoader'ы.\n",
        "\n",
        "* Добавил метод validation_step для оценки качества модели.\n",
        "\n",
        "* Добавил отдельные циклы для валидации и места для вызова графиков."
      ],
      "metadata": {
        "id": "-Ec5RdtCL73i"
      }
    }
  ],
  "metadata": {
    "kernelspec": {
      "display_name": "Python 3",
      "language": "python",
      "name": "python3"
    },
    "language_info": {
      "codemirror_mode": {
        "name": "ipython",
        "version": 2
      },
      "file_extension": ".py",
      "mimetype": "text/x-python",
      "name": "python",
      "nbconvert_exporter": "python",
      "pygments_lexer": "ipython2",
      "version": "2.7.6"
    },
    "colab": {
      "provenance": [],
      "include_colab_link": true
    }
  },
  "nbformat": 4,
  "nbformat_minor": 0
}